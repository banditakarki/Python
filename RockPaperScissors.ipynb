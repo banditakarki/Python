{
 "cells": [
  {
   "cell_type": "code",
   "execution_count": 1,
   "id": "828676bf",
   "metadata": {},
   "outputs": [],
   "source": [
    "import random"
   ]
  },
  {
   "cell_type": "code",
   "execution_count": 2,
   "id": "69649754",
   "metadata": {},
   "outputs": [],
   "source": [
    "def game():\n",
    "    user = input(\"Do you choose rock (h), paper (p), or scissor (s)? \").lower()\n",
    "    comp = random.choice(['r','p','s'])\n",
    "    \n",
    "    if user == comp:\n",
    "        return \"It's a tie\"\n",
    "    \n",
    "    if is_win(user, comp):\n",
    "        return f\"You win! The computer chose {comp}\"\n",
    "    \n",
    "    return f\"You lose! The computer chose {comp}\"\n",
    "\n"
   ]
  },
  {
   "cell_type": "code",
   "execution_count": 3,
   "id": "e28cd36c",
   "metadata": {},
   "outputs": [],
   "source": [
    "def is_win(player, opponent):\n",
    "    if (player == \"r\" and opponent == \"s\") or (player == \"s\" and opponent == \"p\") or (player == \"p\" and opponent == \"r\"):\n",
    "       return True"
   ]
  },
  {
   "cell_type": "code",
   "execution_count": 7,
   "id": "d428ac38",
   "metadata": {},
   "outputs": [
    {
     "name": "stdout",
     "output_type": "stream",
     "text": [
      "Do you choose rock (h), paper (p), or scissor (s)? p\n",
      "You win! The computer chose r\n"
     ]
    }
   ],
   "source": [
    "print(game())"
   ]
  },
  {
   "cell_type": "code",
   "execution_count": null,
   "id": "7c80c6be",
   "metadata": {},
   "outputs": [],
   "source": []
  }
 ],
 "metadata": {
  "kernelspec": {
   "display_name": "Python 3 (ipykernel)",
   "language": "python",
   "name": "python3"
  },
  "language_info": {
   "codemirror_mode": {
    "name": "ipython",
    "version": 3
   },
   "file_extension": ".py",
   "mimetype": "text/x-python",
   "name": "python",
   "nbconvert_exporter": "python",
   "pygments_lexer": "ipython3",
   "version": "3.9.12"
  }
 },
 "nbformat": 4,
 "nbformat_minor": 5
}
