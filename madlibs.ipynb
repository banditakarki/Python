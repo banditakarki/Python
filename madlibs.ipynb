{
 "cells": [
  {
   "cell_type": "code",
   "execution_count": 1,
   "id": "e85b9aa5",
   "metadata": {},
   "outputs": [
    {
     "data": {
      "text/plain": [
       "'My name is Bandita Karki'"
      ]
     },
     "execution_count": 1,
     "metadata": {},
     "output_type": "execute_result"
    }
   ],
   "source": [
    "#printing technique\n",
    "name = \"Bandita Karki\"\n",
    "f\"My name is {name}\""
   ]
  },
  {
   "cell_type": "code",
   "execution_count": 3,
   "id": "0d313d8b",
   "metadata": {},
   "outputs": [
    {
     "name": "stdout",
     "output_type": "stream",
     "text": [
      "Adjective:sweet\n",
      "Adjective:dark\n",
      "Noun:actor\n",
      "Place:park\n"
     ]
    }
   ],
   "source": [
    "#ask user for input\n",
    "adj1 = input(\"Adjective:\")\n",
    "adj2 = input(\"Adjective:\")\n",
    "noun = input(\"Noun:\")\n",
    "place = input(\"Place:\")"
   ]
  },
  {
   "cell_type": "code",
   "execution_count": 7,
   "id": "69d0dd7f",
   "metadata": {},
   "outputs": [
    {
     "name": "stdout",
     "output_type": "stream",
     "text": [
      "Roses are sweet, sky is dark, you are a actor, who belongs in the park.\n"
     ]
    }
   ],
   "source": [
    "#print the final madlib sentence\n",
    "madlib = f\"Roses are {adj1}, sky is {adj2}, you are a {noun}, who belongs in the {place}.\"\n",
    "print(madlib)"
   ]
  },
  {
   "cell_type": "code",
   "execution_count": null,
   "id": "47b14d9f",
   "metadata": {},
   "outputs": [],
   "source": []
  }
 ],
 "metadata": {
  "kernelspec": {
   "display_name": "Python 3 (ipykernel)",
   "language": "python",
   "name": "python3"
  },
  "language_info": {
   "codemirror_mode": {
    "name": "ipython",
    "version": 3
   },
   "file_extension": ".py",
   "mimetype": "text/x-python",
   "name": "python",
   "nbconvert_exporter": "python",
   "pygments_lexer": "ipython3",
   "version": "3.9.12"
  }
 },
 "nbformat": 4,
 "nbformat_minor": 5
}
